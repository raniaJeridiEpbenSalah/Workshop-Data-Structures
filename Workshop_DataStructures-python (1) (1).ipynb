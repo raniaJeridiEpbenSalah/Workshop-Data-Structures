{
 "cells": [
  {
   "cell_type": "markdown",
   "metadata": {
    "colab_type": "text",
    "id": "aKmMMJ0Mhcy1"
   },
   "source": [
    "# *Go My Code Education Management System*"
   ]
  },
  {
   "cell_type": "markdown",
   "metadata": {
    "colab_type": "text",
    "id": "Elt8_g5Hhcy7"
   },
   "source": [
    "### Go My Code education system is essentially composed of instructors that supervise students and students that follow some courses."
   ]
  },
  {
   "cell_type": "markdown",
   "metadata": {
    "colab_type": "text",
    "id": "QcKeQMyohcy_"
   },
   "source": [
    "### Let's consider that a person is defined respectively by : \n",
    "- A first name\n",
    "- A last name\n",
    "- An Id Card Number"
   ]
  },
  {
   "cell_type": "markdown",
   "metadata": {
    "colab_type": "text",
    "id": "QaWP5DEYhczC"
   },
   "source": [
    "## Instructors Management:"
   ]
  },
  {
   "cell_type": "markdown",
   "metadata": {
    "colab_type": "text",
    "id": "yM8N5uCkhczF"
   },
   "source": [
    "#### *Knowing that these informations never change, use a suitable data structure to represent a person* :"
   ]
  },
  {
   "cell_type": "code",
   "execution_count": null,
   "metadata": {
    "colab": {},
    "colab_type": "code",
    "id": "98xkGx33hczI"
   },
   "outputs": [],
   "source": [
    "defperson=(\"first name\",\"last name\", \"Id card number\")"
   ]
  },
  {
   "cell_type": "markdown",
   "metadata": {
    "colab_type": "text",
    "id": "b8QXynm2hczV"
   },
   "source": [
    "#### *Create now a list that contains 3 instructors* :"
   ]
  },
  {
   "cell_type": "code",
   "execution_count": 11,
   "metadata": {
    "colab": {
     "base_uri": "https://localhost:8080/",
     "height": 129
    },
    "colab_type": "code",
    "executionInfo": {
     "elapsed": 494,
     "status": "error",
     "timestamp": 1556384286206,
     "user": {
      "displayName": "chayma guedira",
      "photoUrl": "https://lh4.googleusercontent.com/-hfH__qSHlsA/AAAAAAAAAAI/AAAAAAAABqI/5cclguD3LAs/s64/photo.jpg",
      "userId": "01891356124950322821"
     },
     "user_tz": -120
    },
    "id": "As7-TsRrhczY",
    "outputId": "a9ac549c-0ac8-4d17-dab6-8412d6c89955"
   },
   "outputs": [
    {
     "name": "stdout",
     "output_type": "stream",
     "text": [
      "[['aaaa', 'aaaa', '1111'], ['bbbb', 'bbbb', '2222'], ['cccc', 'cccc', '3333']]\n"
     ]
    }
   ],
   "source": [
    "li=[[\"aaaa\",\"aaaa\",\"1111\"],[\"bbbb\",\"bbbb\",\"2222\"],[\"cccc\",\"cccc\",\"3333\"]]\n",
    "print(li)"
   ]
  },
  {
   "cell_type": "markdown",
   "metadata": {
    "colab_type": "text",
    "id": "nu1Z71Gfhczg"
   },
   "source": [
    "#### *Order the instructors by Last Name (Asc)* :"
   ]
  },
  {
   "cell_type": "code",
   "execution_count": 14,
   "metadata": {
    "colab": {},
    "colab_type": "code",
    "id": "aQd-Ylv7hczj"
   },
   "outputs": [
    {
     "name": "stdout",
     "output_type": "stream",
     "text": [
      "[['aaaa', 'mazen', '1111'], ['bbbb', 'sirine', '2222'], ['cccc', 'yass', '3333']]\n"
     ]
    }
   ],
   "source": [
    "#def takeSecond(elem):\n",
    " #   return elem[1]\n",
    "li.sort(key=lambda x:x[1], reverse=False)\n",
    "print(li)"
   ]
  },
  {
   "cell_type": "markdown",
   "metadata": {
    "colab_type": "text",
    "id": "C3J6aX8qhczv"
   },
   "source": [
    "#### *Display the instructor that has the shortest Last Name* (Desc) :"
   ]
  },
  {
   "cell_type": "code",
   "execution_count": 12,
   "metadata": {
    "colab": {},
    "colab_type": "code",
    "id": "WYSWzZ1Vhczy"
   },
   "outputs": [
    {
     "name": "stdout",
     "output_type": "stream",
     "text": [
      "[['cccc', 'yass', '3333'], ['aaaa', 'mazen', '1111'], ['bbbb', 'sirine', '2222']]\n"
     ]
    }
   ],
   "source": [
    "li=[[\"aaaa\",\"mazen\",\"1111\"],[\"bbbb\",\"sirine\",\"2222\"],[\"cccc\",\"yass\",\"3333\"]]\n",
    "li.sort(key=lambda x:len(x[1]), reverse=False)\n",
    "print(li)"
   ]
  },
  {
   "cell_type": "markdown",
   "metadata": {
    "colab_type": "text",
    "id": "pp-DEDIdhcz6"
   },
   "source": [
    "## Courses & Students Management:"
   ]
  },
  {
   "cell_type": "markdown",
   "metadata": {
    "colab_type": "text",
    "id": "SX1EK0Bohcz8"
   },
   "source": [
    "#### *Courses storage must not contain duplicates. Represent it with the suitable Data Structure (at least 3 courses)* :"
   ]
  },
  {
   "cell_type": "code",
   "execution_count": 4,
   "metadata": {
    "colab": {},
    "colab_type": "code",
    "id": "Z3ZkIDBbhcz-"
   },
   "outputs": [
    {
     "name": "stdout",
     "output_type": "stream",
     "text": [
      "{1: 'Intro to Data Science', 2: 'Python', 3: 'Supervized-Machine-Learning'}\n"
     ]
    }
   ],
   "source": [
    "courses={1:\"Intro to Data Science\",2:\"Python\",3:\"Supervized-Machine-Learning\"}\n",
    "print(courses)"
   ]
  },
  {
   "cell_type": "markdown",
   "metadata": {
    "colab_type": "text",
    "id": "3k2WvMTahc0F"
   },
   "source": [
    "#### *Create two students and affect \"Intro to Data Science\" to their courses sets (from the courses set):* "
   ]
  },
  {
   "cell_type": "code",
   "execution_count": 5,
   "metadata": {
    "colab": {},
    "colab_type": "code",
    "id": "M6YcNOB3hc0L"
   },
   "outputs": [
    {
     "name": "stdout",
     "output_type": "stream",
     "text": [
      "{'mazen': 'Intro to Data Science', 'sirine': 'Intro to Data Science'}\n"
     ]
    }
   ],
   "source": [
    "students={\"mazen\":courses[1],\"sirine\":courses[1]}\n",
    "print(students)"
   ]
  },
  {
   "cell_type": "markdown",
   "metadata": {
    "colab_type": "text",
    "id": "gozxd-CBhc0Y"
   },
   "source": [
    "#### *Map Every student to his courses* (Use a data structure to represent the courses management):"
   ]
  },
  {
   "cell_type": "code",
   "execution_count": 7,
   "metadata": {
    "colab": {},
    "colab_type": "code",
    "id": "MMZsE-2uhc0c"
   },
   "outputs": [
    {
     "name": "stdout",
     "output_type": "stream",
     "text": [
      "Intro to Data Science\n"
     ]
    }
   ],
   "source": [
    "print(students[\"mazen\"])"
   ]
  },
  {
   "cell_type": "markdown",
   "metadata": {
    "colab_type": "text",
    "id": "459GXCIlhc0s"
   },
   "source": [
    "#### *Display the students following \"Intro to Data Science\" course*:"
   ]
  },
  {
   "cell_type": "code",
   "execution_count": 7,
   "metadata": {
    "colab": {},
    "colab_type": "code",
    "id": "58ihNUklhc0v"
   },
   "outputs": [
    {
     "name": "stdout",
     "output_type": "stream",
     "text": [
      "mazen\n",
      "sirine\n"
     ]
    }
   ],
   "source": [
    "for k in students:\n",
    "    if (students[k]==\"Intro to Data Science\"):\n",
    "       print(k)"
   ]
  },
  {
   "cell_type": "code",
   "execution_count": null,
   "metadata": {},
   "outputs": [],
   "source": []
  }
 ],
 "metadata": {
  "colab": {
   "name": "Workshop_DataStructures.ipynb",
   "provenance": [],
   "version": "0.3.2"
  },
  "kernelspec": {
   "display_name": "Python 3",
   "language": "python",
   "name": "python3"
  },
  "language_info": {
   "codemirror_mode": {
    "name": "ipython",
    "version": 3
   },
   "file_extension": ".py",
   "mimetype": "text/x-python",
   "name": "python",
   "nbconvert_exporter": "python",
   "pygments_lexer": "ipython3",
   "version": "3.8.5"
  }
 },
 "nbformat": 4,
 "nbformat_minor": 1
}
